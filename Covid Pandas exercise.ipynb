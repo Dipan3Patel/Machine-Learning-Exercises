{
 "cells": [
  {
   "cell_type": "code",
   "execution_count": 103,
   "metadata": {},
   "outputs": [],
   "source": [
    "import numpy as np\n",
    "import pandas as pd\n",
    "import seaborn as sns\n",
    "import urllib\n",
    "from datetime import datetime\n",
    "import matplotlib.pyplot as plt\n",
    "%matplotlib inline"
   ]
  },
  {
   "cell_type": "code",
   "execution_count": 63,
   "metadata": {},
   "outputs": [],
   "source": [
    "url = \"https://covid19.who.int/WHO-COVID-19-global-data.csv\""
   ]
  },
  {
   "cell_type": "code",
   "execution_count": 64,
   "metadata": {},
   "outputs": [],
   "source": [
    "dateparse = lambda x: datetime.strptime(x, '%Y-%m-%d')\n",
    "df=pd.read_csv(url, parse_dates=['Date_reported'], date_parser=dateparse)"
   ]
  },
  {
   "cell_type": "code",
   "execution_count": 65,
   "metadata": {},
   "outputs": [
    {
     "data": {
      "text/html": [
       "<div>\n",
       "<style scoped>\n",
       "    .dataframe tbody tr th:only-of-type {\n",
       "        vertical-align: middle;\n",
       "    }\n",
       "\n",
       "    .dataframe tbody tr th {\n",
       "        vertical-align: top;\n",
       "    }\n",
       "\n",
       "    .dataframe thead th {\n",
       "        text-align: right;\n",
       "    }\n",
       "</style>\n",
       "<table border=\"1\" class=\"dataframe\">\n",
       "  <thead>\n",
       "    <tr style=\"text-align: right;\">\n",
       "      <th></th>\n",
       "      <th>Date_reported</th>\n",
       "      <th>Country_code</th>\n",
       "      <th>Country</th>\n",
       "      <th>WHO_region</th>\n",
       "      <th>New_cases</th>\n",
       "      <th>Cumulative_cases</th>\n",
       "      <th>New_deaths</th>\n",
       "      <th>Cumulative_deaths</th>\n",
       "    </tr>\n",
       "  </thead>\n",
       "  <tbody>\n",
       "    <tr>\n",
       "      <th>0</th>\n",
       "      <td>2020-01-03</td>\n",
       "      <td>AF</td>\n",
       "      <td>Afghanistan</td>\n",
       "      <td>EMRO</td>\n",
       "      <td>0</td>\n",
       "      <td>0</td>\n",
       "      <td>0</td>\n",
       "      <td>0</td>\n",
       "    </tr>\n",
       "    <tr>\n",
       "      <th>1</th>\n",
       "      <td>2020-01-04</td>\n",
       "      <td>AF</td>\n",
       "      <td>Afghanistan</td>\n",
       "      <td>EMRO</td>\n",
       "      <td>0</td>\n",
       "      <td>0</td>\n",
       "      <td>0</td>\n",
       "      <td>0</td>\n",
       "    </tr>\n",
       "    <tr>\n",
       "      <th>2</th>\n",
       "      <td>2020-01-05</td>\n",
       "      <td>AF</td>\n",
       "      <td>Afghanistan</td>\n",
       "      <td>EMRO</td>\n",
       "      <td>0</td>\n",
       "      <td>0</td>\n",
       "      <td>0</td>\n",
       "      <td>0</td>\n",
       "    </tr>\n",
       "    <tr>\n",
       "      <th>3</th>\n",
       "      <td>2020-01-06</td>\n",
       "      <td>AF</td>\n",
       "      <td>Afghanistan</td>\n",
       "      <td>EMRO</td>\n",
       "      <td>0</td>\n",
       "      <td>0</td>\n",
       "      <td>0</td>\n",
       "      <td>0</td>\n",
       "    </tr>\n",
       "    <tr>\n",
       "      <th>4</th>\n",
       "      <td>2020-01-07</td>\n",
       "      <td>AF</td>\n",
       "      <td>Afghanistan</td>\n",
       "      <td>EMRO</td>\n",
       "      <td>0</td>\n",
       "      <td>0</td>\n",
       "      <td>0</td>\n",
       "      <td>0</td>\n",
       "    </tr>\n",
       "  </tbody>\n",
       "</table>\n",
       "</div>"
      ],
      "text/plain": [
       "  Date_reported  Country_code      Country  WHO_region   New_cases  \\\n",
       "0    2020-01-03            AF  Afghanistan        EMRO           0   \n",
       "1    2020-01-04            AF  Afghanistan        EMRO           0   \n",
       "2    2020-01-05            AF  Afghanistan        EMRO           0   \n",
       "3    2020-01-06            AF  Afghanistan        EMRO           0   \n",
       "4    2020-01-07            AF  Afghanistan        EMRO           0   \n",
       "\n",
       "    Cumulative_cases   New_deaths   Cumulative_deaths  \n",
       "0                  0            0                   0  \n",
       "1                  0            0                   0  \n",
       "2                  0            0                   0  \n",
       "3                  0            0                   0  \n",
       "4                  0            0                   0  "
      ]
     },
     "execution_count": 65,
     "metadata": {},
     "output_type": "execute_result"
    }
   ],
   "source": [
    "df.head()"
   ]
  },
  {
   "cell_type": "code",
   "execution_count": 66,
   "metadata": {},
   "outputs": [
    {
     "data": {
      "text/html": [
       "<div>\n",
       "<style scoped>\n",
       "    .dataframe tbody tr th:only-of-type {\n",
       "        vertical-align: middle;\n",
       "    }\n",
       "\n",
       "    .dataframe tbody tr th {\n",
       "        vertical-align: top;\n",
       "    }\n",
       "\n",
       "    .dataframe thead th {\n",
       "        text-align: right;\n",
       "    }\n",
       "</style>\n",
       "<table border=\"1\" class=\"dataframe\">\n",
       "  <thead>\n",
       "    <tr style=\"text-align: right;\">\n",
       "      <th></th>\n",
       "      <th>New_cases</th>\n",
       "      <th>Cumulative_cases</th>\n",
       "      <th>New_deaths</th>\n",
       "      <th>Cumulative_deaths</th>\n",
       "    </tr>\n",
       "  </thead>\n",
       "  <tbody>\n",
       "    <tr>\n",
       "      <th>count</th>\n",
       "      <td>70858.000000</td>\n",
       "      <td>7.085800e+04</td>\n",
       "      <td>70858.000000</td>\n",
       "      <td>70858.000000</td>\n",
       "    </tr>\n",
       "    <tr>\n",
       "      <th>mean</th>\n",
       "      <td>629.326103</td>\n",
       "      <td>5.029955e+04</td>\n",
       "      <td>16.590265</td>\n",
       "      <td>1816.747876</td>\n",
       "    </tr>\n",
       "    <tr>\n",
       "      <th>std</th>\n",
       "      <td>4172.880411</td>\n",
       "      <td>3.662048e+05</td>\n",
       "      <td>108.205080</td>\n",
       "      <td>11071.457731</td>\n",
       "    </tr>\n",
       "    <tr>\n",
       "      <th>min</th>\n",
       "      <td>-8261.000000</td>\n",
       "      <td>0.000000e+00</td>\n",
       "      <td>-514.000000</td>\n",
       "      <td>0.000000</td>\n",
       "    </tr>\n",
       "    <tr>\n",
       "      <th>25%</th>\n",
       "      <td>0.000000</td>\n",
       "      <td>0.000000e+00</td>\n",
       "      <td>0.000000</td>\n",
       "      <td>0.000000</td>\n",
       "    </tr>\n",
       "    <tr>\n",
       "      <th>50%</th>\n",
       "      <td>1.000000</td>\n",
       "      <td>2.630000e+02</td>\n",
       "      <td>0.000000</td>\n",
       "      <td>5.000000</td>\n",
       "    </tr>\n",
       "    <tr>\n",
       "      <th>75%</th>\n",
       "      <td>77.000000</td>\n",
       "      <td>6.260750e+03</td>\n",
       "      <td>1.000000</td>\n",
       "      <td>116.000000</td>\n",
       "    </tr>\n",
       "    <tr>\n",
       "      <th>max</th>\n",
       "      <td>97894.000000</td>\n",
       "      <td>8.763682e+06</td>\n",
       "      <td>6409.000000</td>\n",
       "      <td>226132.000000</td>\n",
       "    </tr>\n",
       "  </tbody>\n",
       "</table>\n",
       "</div>"
      ],
      "text/plain": [
       "          New_cases   Cumulative_cases    New_deaths   Cumulative_deaths\n",
       "count  70858.000000       7.085800e+04  70858.000000        70858.000000\n",
       "mean     629.326103       5.029955e+04     16.590265         1816.747876\n",
       "std     4172.880411       3.662048e+05    108.205080        11071.457731\n",
       "min    -8261.000000       0.000000e+00   -514.000000            0.000000\n",
       "25%        0.000000       0.000000e+00      0.000000            0.000000\n",
       "50%        1.000000       2.630000e+02      0.000000            5.000000\n",
       "75%       77.000000       6.260750e+03      1.000000          116.000000\n",
       "max    97894.000000       8.763682e+06   6409.000000       226132.000000"
      ]
     },
     "execution_count": 66,
     "metadata": {},
     "output_type": "execute_result"
    }
   ],
   "source": [
    "df.describe()"
   ]
  },
  {
   "cell_type": "code",
   "execution_count": 67,
   "metadata": {},
   "outputs": [
    {
     "name": "stdout",
     "output_type": "stream",
     "text": [
      "<class 'pandas.core.frame.DataFrame'>\n",
      "RangeIndex: 70858 entries, 0 to 70857\n",
      "Data columns (total 8 columns):\n",
      " #   Column              Non-Null Count  Dtype         \n",
      "---  ------              --------------  -----         \n",
      " 0   Date_reported       70858 non-null  datetime64[ns]\n",
      " 1    Country_code       70557 non-null  object        \n",
      " 2    Country            70858 non-null  object        \n",
      " 3    WHO_region         70858 non-null  object        \n",
      " 4    New_cases          70858 non-null  int64         \n",
      " 5    Cumulative_cases   70858 non-null  int64         \n",
      " 6    New_deaths         70858 non-null  int64         \n",
      " 7    Cumulative_deaths  70858 non-null  int64         \n",
      "dtypes: datetime64[ns](1), int64(4), object(3)\n",
      "memory usage: 4.3+ MB\n"
     ]
    }
   ],
   "source": [
    "#Negative new cases likely means reclassification of cases incorrectly classified as covid previously.\n",
    "df.info()"
   ]
  },
  {
   "cell_type": "code",
   "execution_count": 68,
   "metadata": {},
   "outputs": [
    {
     "name": "stdout",
     "output_type": "stream",
     "text": [
      "<class 'pandas.core.frame.DataFrame'>\n",
      "RangeIndex: 70858 entries, 0 to 70857\n",
      "Data columns (total 8 columns):\n",
      " #   Column             Non-Null Count  Dtype         \n",
      "---  ------             --------------  -----         \n",
      " 0   Date_reported      70858 non-null  datetime64[ns]\n",
      " 1   Country_code       70557 non-null  object        \n",
      " 2   Country            70858 non-null  object        \n",
      " 3   WHO_region         70858 non-null  object        \n",
      " 4   New_cases          70858 non-null  int64         \n",
      " 5   Cumulative_cases   70858 non-null  int64         \n",
      " 6   New_deaths         70858 non-null  int64         \n",
      " 7   Cumulative_deaths  70858 non-null  int64         \n",
      "dtypes: datetime64[ns](1), int64(4), object(3)\n",
      "memory usage: 4.3+ MB\n"
     ]
    }
   ],
   "source": [
    "#remove spaces before the column headers\n",
    "df.columns=[col.strip() for col in df.columns]\n",
    "df.info()"
   ]
  },
  {
   "cell_type": "code",
   "execution_count": 69,
   "metadata": {},
   "outputs": [
    {
     "data": {
      "text/html": [
       "<div>\n",
       "<style scoped>\n",
       "    .dataframe tbody tr th:only-of-type {\n",
       "        vertical-align: middle;\n",
       "    }\n",
       "\n",
       "    .dataframe tbody tr th {\n",
       "        vertical-align: top;\n",
       "    }\n",
       "\n",
       "    .dataframe thead th {\n",
       "        text-align: right;\n",
       "    }\n",
       "</style>\n",
       "<table border=\"1\" class=\"dataframe\">\n",
       "  <thead>\n",
       "    <tr style=\"text-align: right;\">\n",
       "      <th></th>\n",
       "      <th>Country</th>\n",
       "      <th>Date_reported</th>\n",
       "      <th>New_cases</th>\n",
       "      <th>New_deaths</th>\n",
       "    </tr>\n",
       "  </thead>\n",
       "  <tbody>\n",
       "    <tr>\n",
       "      <th>63112</th>\n",
       "      <td>The United Kingdom</td>\n",
       "      <td>2020-04-08</td>\n",
       "      <td>5282</td>\n",
       "      <td>1105</td>\n",
       "    </tr>\n",
       "    <tr>\n",
       "      <th>63113</th>\n",
       "      <td>The United Kingdom</td>\n",
       "      <td>2020-04-09</td>\n",
       "      <td>5450</td>\n",
       "      <td>1030</td>\n",
       "    </tr>\n",
       "    <tr>\n",
       "      <th>63114</th>\n",
       "      <td>The United Kingdom</td>\n",
       "      <td>2020-04-10</td>\n",
       "      <td>5131</td>\n",
       "      <td>1116</td>\n",
       "    </tr>\n",
       "    <tr>\n",
       "      <th>63115</th>\n",
       "      <td>The United Kingdom</td>\n",
       "      <td>2020-04-11</td>\n",
       "      <td>4858</td>\n",
       "      <td>1122</td>\n",
       "    </tr>\n",
       "    <tr>\n",
       "      <th>63119</th>\n",
       "      <td>The United Kingdom</td>\n",
       "      <td>2020-04-15</td>\n",
       "      <td>4178</td>\n",
       "      <td>1076</td>\n",
       "    </tr>\n",
       "    <tr>\n",
       "      <th>63121</th>\n",
       "      <td>The United Kingdom</td>\n",
       "      <td>2020-04-17</td>\n",
       "      <td>5065</td>\n",
       "      <td>1036</td>\n",
       "    </tr>\n",
       "    <tr>\n",
       "      <th>63123</th>\n",
       "      <td>The United Kingdom</td>\n",
       "      <td>2020-04-19</td>\n",
       "      <td>4956</td>\n",
       "      <td>1105</td>\n",
       "    </tr>\n",
       "    <tr>\n",
       "      <th>63126</th>\n",
       "      <td>The United Kingdom</td>\n",
       "      <td>2020-04-22</td>\n",
       "      <td>4854</td>\n",
       "      <td>1224</td>\n",
       "    </tr>\n",
       "    <tr>\n",
       "      <th>63129</th>\n",
       "      <td>The United Kingdom</td>\n",
       "      <td>2020-04-25</td>\n",
       "      <td>5158</td>\n",
       "      <td>1010</td>\n",
       "    </tr>\n",
       "  </tbody>\n",
       "</table>\n",
       "</div>"
      ],
      "text/plain": [
       "                  Country Date_reported  New_cases  New_deaths\n",
       "63112  The United Kingdom    2020-04-08       5282        1105\n",
       "63113  The United Kingdom    2020-04-09       5450        1030\n",
       "63114  The United Kingdom    2020-04-10       5131        1116\n",
       "63115  The United Kingdom    2020-04-11       4858        1122\n",
       "63119  The United Kingdom    2020-04-15       4178        1076\n",
       "63121  The United Kingdom    2020-04-17       5065        1036\n",
       "63123  The United Kingdom    2020-04-19       4956        1105\n",
       "63126  The United Kingdom    2020-04-22       4854        1224\n",
       "63129  The United Kingdom    2020-04-25       5158        1010"
      ]
     },
     "execution_count": 69,
     "metadata": {},
     "output_type": "execute_result"
    }
   ],
   "source": [
    "#Evaluate the highest new deaths for the UK\n",
    "df.loc[(df.New_deaths>1000)&(df.Country=='The United Kingdom'),['Country','Date_reported','New_cases','New_deaths']]"
   ]
  },
  {
   "cell_type": "code",
   "execution_count": 70,
   "metadata": {},
   "outputs": [
    {
     "data": {
      "text/html": [
       "<div>\n",
       "<style scoped>\n",
       "    .dataframe tbody tr th:only-of-type {\n",
       "        vertical-align: middle;\n",
       "    }\n",
       "\n",
       "    .dataframe tbody tr th {\n",
       "        vertical-align: top;\n",
       "    }\n",
       "\n",
       "    .dataframe thead th {\n",
       "        text-align: right;\n",
       "    }\n",
       "</style>\n",
       "<table border=\"1\" class=\"dataframe\">\n",
       "  <thead>\n",
       "    <tr style=\"text-align: right;\">\n",
       "      <th></th>\n",
       "      <th>Country</th>\n",
       "      <th>Date_reported</th>\n",
       "      <th>New_cases</th>\n",
       "      <th>New_deaths</th>\n",
       "    </tr>\n",
       "  </thead>\n",
       "  <tbody>\n",
       "    <tr>\n",
       "      <th>63292</th>\n",
       "      <td>The United Kingdom</td>\n",
       "      <td>2020-10-05</td>\n",
       "      <td>22961</td>\n",
       "      <td>33</td>\n",
       "    </tr>\n",
       "    <tr>\n",
       "      <th>63296</th>\n",
       "      <td>The United Kingdom</td>\n",
       "      <td>2020-10-09</td>\n",
       "      <td>17540</td>\n",
       "      <td>77</td>\n",
       "    </tr>\n",
       "    <tr>\n",
       "      <th>63298</th>\n",
       "      <td>The United Kingdom</td>\n",
       "      <td>2020-10-11</td>\n",
       "      <td>15165</td>\n",
       "      <td>81</td>\n",
       "    </tr>\n",
       "    <tr>\n",
       "      <th>63301</th>\n",
       "      <td>The United Kingdom</td>\n",
       "      <td>2020-10-14</td>\n",
       "      <td>17232</td>\n",
       "      <td>143</td>\n",
       "    </tr>\n",
       "    <tr>\n",
       "      <th>63302</th>\n",
       "      <td>The United Kingdom</td>\n",
       "      <td>2020-10-15</td>\n",
       "      <td>19724</td>\n",
       "      <td>137</td>\n",
       "    </tr>\n",
       "    <tr>\n",
       "      <th>63303</th>\n",
       "      <td>The United Kingdom</td>\n",
       "      <td>2020-10-16</td>\n",
       "      <td>18978</td>\n",
       "      <td>138</td>\n",
       "    </tr>\n",
       "    <tr>\n",
       "      <th>63304</th>\n",
       "      <td>The United Kingdom</td>\n",
       "      <td>2020-10-17</td>\n",
       "      <td>15635</td>\n",
       "      <td>136</td>\n",
       "    </tr>\n",
       "    <tr>\n",
       "      <th>63305</th>\n",
       "      <td>The United Kingdom</td>\n",
       "      <td>2020-10-18</td>\n",
       "      <td>16171</td>\n",
       "      <td>150</td>\n",
       "    </tr>\n",
       "    <tr>\n",
       "      <th>63306</th>\n",
       "      <td>The United Kingdom</td>\n",
       "      <td>2020-10-19</td>\n",
       "      <td>16981</td>\n",
       "      <td>67</td>\n",
       "    </tr>\n",
       "    <tr>\n",
       "      <th>63307</th>\n",
       "      <td>The United Kingdom</td>\n",
       "      <td>2020-10-20</td>\n",
       "      <td>18803</td>\n",
       "      <td>80</td>\n",
       "    </tr>\n",
       "    <tr>\n",
       "      <th>63308</th>\n",
       "      <td>The United Kingdom</td>\n",
       "      <td>2020-10-21</td>\n",
       "      <td>21330</td>\n",
       "      <td>241</td>\n",
       "    </tr>\n",
       "    <tr>\n",
       "      <th>63309</th>\n",
       "      <td>The United Kingdom</td>\n",
       "      <td>2020-10-22</td>\n",
       "      <td>26687</td>\n",
       "      <td>191</td>\n",
       "    </tr>\n",
       "    <tr>\n",
       "      <th>63310</th>\n",
       "      <td>The United Kingdom</td>\n",
       "      <td>2020-10-23</td>\n",
       "      <td>21238</td>\n",
       "      <td>189</td>\n",
       "    </tr>\n",
       "    <tr>\n",
       "      <th>63311</th>\n",
       "      <td>The United Kingdom</td>\n",
       "      <td>2020-10-24</td>\n",
       "      <td>20531</td>\n",
       "      <td>224</td>\n",
       "    </tr>\n",
       "    <tr>\n",
       "      <th>63312</th>\n",
       "      <td>The United Kingdom</td>\n",
       "      <td>2020-10-25</td>\n",
       "      <td>23012</td>\n",
       "      <td>174</td>\n",
       "    </tr>\n",
       "    <tr>\n",
       "      <th>63313</th>\n",
       "      <td>The United Kingdom</td>\n",
       "      <td>2020-10-26</td>\n",
       "      <td>19790</td>\n",
       "      <td>151</td>\n",
       "    </tr>\n",
       "    <tr>\n",
       "      <th>63314</th>\n",
       "      <td>The United Kingdom</td>\n",
       "      <td>2020-10-27</td>\n",
       "      <td>20890</td>\n",
       "      <td>102</td>\n",
       "    </tr>\n",
       "    <tr>\n",
       "      <th>63315</th>\n",
       "      <td>The United Kingdom</td>\n",
       "      <td>2020-10-28</td>\n",
       "      <td>22885</td>\n",
       "      <td>367</td>\n",
       "    </tr>\n",
       "    <tr>\n",
       "      <th>63316</th>\n",
       "      <td>The United Kingdom</td>\n",
       "      <td>2020-10-29</td>\n",
       "      <td>24700</td>\n",
       "      <td>310</td>\n",
       "    </tr>\n",
       "  </tbody>\n",
       "</table>\n",
       "</div>"
      ],
      "text/plain": [
       "                  Country Date_reported  New_cases  New_deaths\n",
       "63292  The United Kingdom    2020-10-05      22961          33\n",
       "63296  The United Kingdom    2020-10-09      17540          77\n",
       "63298  The United Kingdom    2020-10-11      15165          81\n",
       "63301  The United Kingdom    2020-10-14      17232         143\n",
       "63302  The United Kingdom    2020-10-15      19724         137\n",
       "63303  The United Kingdom    2020-10-16      18978         138\n",
       "63304  The United Kingdom    2020-10-17      15635         136\n",
       "63305  The United Kingdom    2020-10-18      16171         150\n",
       "63306  The United Kingdom    2020-10-19      16981          67\n",
       "63307  The United Kingdom    2020-10-20      18803          80\n",
       "63308  The United Kingdom    2020-10-21      21330         241\n",
       "63309  The United Kingdom    2020-10-22      26687         191\n",
       "63310  The United Kingdom    2020-10-23      21238         189\n",
       "63311  The United Kingdom    2020-10-24      20531         224\n",
       "63312  The United Kingdom    2020-10-25      23012         174\n",
       "63313  The United Kingdom    2020-10-26      19790         151\n",
       "63314  The United Kingdom    2020-10-27      20890         102\n",
       "63315  The United Kingdom    2020-10-28      22885         367\n",
       "63316  The United Kingdom    2020-10-29      24700         310"
      ]
     },
     "execution_count": 70,
     "metadata": {},
     "output_type": "execute_result"
    }
   ],
   "source": [
    "#Evaluate the highest new cases for the UK, to see the correlation with new deaths\n",
    "df.loc[(df.New_cases >15000)&(df.Country=='The United Kingdom'),['Country','Date_reported','New_cases','New_deaths']]"
   ]
  },
  {
   "cell_type": "code",
   "execution_count": 71,
   "metadata": {},
   "outputs": [
    {
     "data": {
      "text/html": [
       "<div>\n",
       "<style scoped>\n",
       "    .dataframe tbody tr th:only-of-type {\n",
       "        vertical-align: middle;\n",
       "    }\n",
       "\n",
       "    .dataframe tbody tr th {\n",
       "        vertical-align: top;\n",
       "    }\n",
       "\n",
       "    .dataframe thead th {\n",
       "        text-align: right;\n",
       "    }\n",
       "</style>\n",
       "<table border=\"1\" class=\"dataframe\">\n",
       "  <thead>\n",
       "    <tr style=\"text-align: right;\">\n",
       "      <th></th>\n",
       "      <th>Country</th>\n",
       "      <th>Date_reported</th>\n",
       "      <th>New_cases</th>\n",
       "      <th>New_deaths</th>\n",
       "    </tr>\n",
       "  </thead>\n",
       "  <tbody>\n",
       "  </tbody>\n",
       "</table>\n",
       "</div>"
      ],
      "text/plain": [
       "Empty DataFrame\n",
       "Columns: [Country, Date_reported, New_cases, New_deaths]\n",
       "Index: []"
      ]
     },
     "execution_count": 71,
     "metadata": {},
     "output_type": "execute_result"
    }
   ],
   "source": [
    "#The number of covid related deaths was higher in April 2020 but the number of new cases has been alot more recent\n",
    "#Lets analyse the data less than 0 to see what cases have been incorrectly classified in the UK\n",
    "df.loc[(df.New_deaths <0)&(df.Country=='The United Kingdom'),['Country','Date_reported','New_cases','New_deaths']]\n",
    "df.loc[(df.New_cases <0)&(df.Country=='The United Kingdom'),['Country','Date_reported','New_cases','New_deaths']]"
   ]
  },
  {
   "cell_type": "code",
   "execution_count": 72,
   "metadata": {},
   "outputs": [
    {
     "data": {
      "text/plain": [
       "Country             United States of America\n",
       "Date_reported            2020-04-17 00:00:00\n",
       "New_cases                              28711\n",
       "Cumulative_cases                      632781\n",
       "New_deaths                              6409\n",
       "Name: 67644, dtype: object"
      ]
     },
     "execution_count": 72,
     "metadata": {},
     "output_type": "execute_result"
    }
   ],
   "source": [
    "#when was the worst death count due to covid?\n",
    "df.loc[df.New_deaths.idxmax(),['Country','Date_reported','New_cases','Cumulative_cases','New_deaths']]"
   ]
  },
  {
   "cell_type": "code",
   "execution_count": 73,
   "metadata": {},
   "outputs": [
    {
     "data": {
      "text/html": [
       "<div>\n",
       "<style scoped>\n",
       "    .dataframe tbody tr th:only-of-type {\n",
       "        vertical-align: middle;\n",
       "    }\n",
       "\n",
       "    .dataframe tbody tr th {\n",
       "        vertical-align: top;\n",
       "    }\n",
       "\n",
       "    .dataframe thead th {\n",
       "        text-align: right;\n",
       "    }\n",
       "</style>\n",
       "<table border=\"1\" class=\"dataframe\">\n",
       "  <thead>\n",
       "    <tr style=\"text-align: right;\">\n",
       "      <th></th>\n",
       "      <th>New_cases</th>\n",
       "      <th>Cumulative_cases</th>\n",
       "      <th>New_deaths</th>\n",
       "      <th>Cumulative_deaths</th>\n",
       "    </tr>\n",
       "  </thead>\n",
       "  <tbody>\n",
       "    <tr>\n",
       "      <th>New_cases</th>\n",
       "      <td>1.000000</td>\n",
       "      <td>0.845227</td>\n",
       "      <td>0.725607</td>\n",
       "      <td>0.773215</td>\n",
       "    </tr>\n",
       "    <tr>\n",
       "      <th>Cumulative_cases</th>\n",
       "      <td>0.845227</td>\n",
       "      <td>1.000000</td>\n",
       "      <td>0.586633</td>\n",
       "      <td>0.910227</td>\n",
       "    </tr>\n",
       "    <tr>\n",
       "      <th>New_deaths</th>\n",
       "      <td>0.725607</td>\n",
       "      <td>0.586633</td>\n",
       "      <td>1.000000</td>\n",
       "      <td>0.640283</td>\n",
       "    </tr>\n",
       "    <tr>\n",
       "      <th>Cumulative_deaths</th>\n",
       "      <td>0.773215</td>\n",
       "      <td>0.910227</td>\n",
       "      <td>0.640283</td>\n",
       "      <td>1.000000</td>\n",
       "    </tr>\n",
       "  </tbody>\n",
       "</table>\n",
       "</div>"
      ],
      "text/plain": [
       "                   New_cases  Cumulative_cases  New_deaths  Cumulative_deaths\n",
       "New_cases           1.000000          0.845227    0.725607           0.773215\n",
       "Cumulative_cases    0.845227          1.000000    0.586633           0.910227\n",
       "New_deaths          0.725607          0.586633    1.000000           0.640283\n",
       "Cumulative_deaths   0.773215          0.910227    0.640283           1.000000"
      ]
     },
     "execution_count": 73,
     "metadata": {},
     "output_type": "execute_result"
    }
   ],
   "source": [
    "#Analysing the correlation between the four numerical columns of new cases/cumulative cases/new deaths and cumulative deaths\n",
    "df.corr()"
   ]
  },
  {
   "cell_type": "code",
   "execution_count": 74,
   "metadata": {},
   "outputs": [
    {
     "data": {
      "text/plain": [
       "Country              The United Kingdom\n",
       "Date_reported       2020-04-22 00:00:00\n",
       "New_cases                          4854\n",
       "Cumulative_cases                 130119\n",
       "New_deaths                         1224\n",
       "Name: 63126, dtype: object"
      ]
     },
     "execution_count": 74,
     "metadata": {},
     "output_type": "execute_result"
    }
   ],
   "source": [
    "##when was the highest death count in the UK due to covid?\n",
    "dfuk=df[df.Country=='The United Kingdom']\n",
    "dfuk.loc[dfuk.New_deaths.idxmax(),['Country','Date_reported','New_cases','Cumulative_cases','New_deaths']]"
   ]
  },
  {
   "cell_type": "code",
   "execution_count": 84,
   "metadata": {},
   "outputs": [
    {
     "name": "stdout",
     "output_type": "stream",
     "text": [
      "<class 'pandas.core.frame.DataFrame'>\n",
      "Int64Index: 301 entries, 63016 to 63316\n",
      "Data columns (total 8 columns):\n",
      " #   Column             Non-Null Count  Dtype         \n",
      "---  ------             --------------  -----         \n",
      " 0   Date_reported      301 non-null    datetime64[ns]\n",
      " 1   Country_code       301 non-null    object        \n",
      " 2   Country            301 non-null    object        \n",
      " 3   WHO_region         301 non-null    object        \n",
      " 4   New_cases          301 non-null    int64         \n",
      " 5   Cumulative_cases   301 non-null    int64         \n",
      " 6   New_deaths         301 non-null    int64         \n",
      " 7   Cumulative_deaths  301 non-null    int64         \n",
      "dtypes: datetime64[ns](1), int64(4), object(3)\n",
      "memory usage: 31.2+ KB\n"
     ]
    }
   ],
   "source": [
    "dfuk.info()"
   ]
  },
  {
   "cell_type": "code",
   "execution_count": 118,
   "metadata": {},
   "outputs": [
    {
     "data": {
      "text/plain": [
       "<AxesSubplot:xlabel='Date_reported', ylabel='New_cases'>"
      ]
     },
     "execution_count": 118,
     "metadata": {},
     "output_type": "execute_result"
    },
    {
     "data": {
      "image/png": "[encoded data removed]",
      "text/plain": [
       "<Figure size 1000x600 with 1 Axes>"
      ]
     },
     "metadata": {},
     "output_type": "display_data"
    }
   ],
   "source": [
    "dfukg=dfuk[['Date_reported', 'New_cases','New_deaths']]\n",
    "dfukg.groupby(dfukg['Date_reported'].dt.month)\n",
    "fig=plt.figure(figsize=(10,6), dpi= 100, facecolor='w', edgecolor='k')\n",
    "sns.lineplot(data=dfukg, x='Date_reported', y='New_cases')\n",
    "sns.lineplot(data=dfukg, x='Date_reported', y='New_deaths')"
   ]
  },
  {
   "cell_type": "code",
   "execution_count": 114,
   "metadata": {},
   "outputs": [
    {
     "data": {
      "text/plain": [
       "array([[<AxesSubplot:xlabel='New_cases', ylabel='New_cases'>,\n",
       "        <AxesSubplot:xlabel='New_deaths', ylabel='New_cases'>],\n",
       "       [<AxesSubplot:xlabel='New_cases', ylabel='New_deaths'>,\n",
       "        <AxesSubplot:xlabel='New_deaths', ylabel='New_deaths'>]],\n",
       "      dtype=object)"
      ]
     },
     "execution_count": 114,
     "metadata": {},
     "output_type": "execute_result"
    },
    {
     "data": {
      "text/plain": [
       "<Figure size 1200x800 with 0 Axes>"
      ]
     },
     "metadata": {},
     "output_type": "display_data"
    },
    {
     "data": {
      "image/png": "[encoded data removed]",
      "text/plain": [
       "<Figure size 432x288 with 4 Axes>"
      ]
     },
     "metadata": {
      "needs_background": "light"
     },
     "output_type": "display_data"
    }
   ],
   "source": [
    "fig=plt.figure(figsize=(12,8), dpi= 100, facecolor='w', edgecolor='k')\n",
    "pd.plotting.scatter_matrix(dfukg)"
   ]
  },
  {
   "cell_type": "code",
   "execution_count": 119,
   "metadata": {},
   "outputs": [
    {
     "data": {
      "text/html": [
       "<div>\n",
       "<style scoped>\n",
       "    .dataframe tbody tr th:only-of-type {\n",
       "        vertical-align: middle;\n",
       "    }\n",
       "\n",
       "    .dataframe tbody tr th {\n",
       "        vertical-align: top;\n",
       "    }\n",
       "\n",
       "    .dataframe thead th {\n",
       "        text-align: right;\n",
       "    }\n",
       "</style>\n",
       "<table border=\"1\" class=\"dataframe\">\n",
       "  <thead>\n",
       "    <tr style=\"text-align: right;\">\n",
       "      <th></th>\n",
       "      <th>New_cases</th>\n",
       "      <th>New_deaths</th>\n",
       "    </tr>\n",
       "  </thead>\n",
       "  <tbody>\n",
       "    <tr>\n",
       "      <th>New_cases</th>\n",
       "      <td>1.000000</td>\n",
       "      <td>0.216299</td>\n",
       "    </tr>\n",
       "    <tr>\n",
       "      <th>New_deaths</th>\n",
       "      <td>0.216299</td>\n",
       "      <td>1.000000</td>\n",
       "    </tr>\n",
       "  </tbody>\n",
       "</table>\n",
       "</div>"
      ],
      "text/plain": [
       "            New_cases  New_deaths\n",
       "New_cases    1.000000    0.216299\n",
       "New_deaths   0.216299    1.000000"
      ]
     },
     "execution_count": 119,
     "metadata": {},
     "output_type": "execute_result"
    }
   ],
   "source": [
    "dfukg.corr()"
   ]
  },
  {
   "cell_type": "code",
   "execution_count": null,
   "metadata": {},
   "outputs": [],
   "source": []
  }
 ],
 "metadata": {
  "kernelspec": {
   "display_name": "Python 3",
   "language": "python",
   "name": "python3"
  },
  "language_info": {
   "codemirror_mode": {
    "name": "ipython",
    "version": 3
   },
   "file_extension": ".py",
   "mimetype": "text/x-python",
   "name": "python",
   "nbconvert_exporter": "python",
   "pygments_lexer": "ipython3",
   "version": "3.7.9"
  }
 },
 "nbformat": 4,
 "nbformat_minor": 4
}
